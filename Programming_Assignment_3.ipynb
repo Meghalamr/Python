{
  "cells": [
    {
      "cell_type": "markdown",
      "id": "ad3c798a",
      "metadata": {
        "id": "ad3c798a"
      },
      "source": [
        "## Programming Assignment_3\n",
        "----------------"
      ]
    },
    {
      "cell_type": "markdown",
      "id": "fdeb4706",
      "metadata": {
        "id": "fdeb4706"
      },
      "source": [
        "### 1. Write a Python Program to Check if a Number is Positive, Negative or Zero?"
      ]
    },
    {
      "cell_type": "code",
      "source": [
        "n=int(input())\n",
        "if n<0:\n",
        "  print(\"Negative\")\n",
        "else:\n",
        "    if n>0:\n",
        "      print(\"Positive\")\n",
        "    else:\n",
        "      print(\"Zero\")"
      ],
      "metadata": {
        "id": "PoKJxzUN-28N"
      },
      "id": "PoKJxzUN-28N",
      "execution_count": null,
      "outputs": []
    },
    {
      "cell_type": "markdown",
      "id": "086bfded",
      "metadata": {
        "id": "086bfded"
      },
      "source": [
        "### 2. Write a Python Program to Check if a Number is Odd or Even?\n"
      ]
    },
    {
      "cell_type": "code",
      "source": [
        "n=int(input())\n",
        "if n%2!=0:\n",
        "  print(\"Odd\")\n",
        "else:\n",
        "  print(\"Even\")"
      ],
      "metadata": {
        "id": "b696N5S8_Z1c"
      },
      "id": "b696N5S8_Z1c",
      "execution_count": null,
      "outputs": []
    },
    {
      "cell_type": "markdown",
      "id": "575e4f94",
      "metadata": {
        "id": "575e4f94"
      },
      "source": [
        "\\### 3. Write a Python Program to Check Leap Year?\n"
      ]
    },
    {
      "cell_type": "code",
      "source": [
        "check_leap_year=int(input())\n",
        "if (check_leap_year%4==0 and check_leap_year!=0) or check_leap_year%400==0:\n",
        "  print(\"It is a Leap Year\")\n",
        "else:\n",
        "  print(\"It is not a Leap Year\")"
      ],
      "metadata": {
        "id": "jaUKFmUW_Y_y"
      },
      "id": "jaUKFmUW_Y_y",
      "execution_count": null,
      "outputs": []
    },
    {
      "cell_type": "markdown",
      "id": "aa83ce63",
      "metadata": {
        "id": "aa83ce63"
      },
      "source": [
        "### 4. Write a Python Program to Check Prime Number?"
      ]
    },
    {
      "cell_type": "code",
      "source": [
        "n=int(input())\n",
        "c=0\n",
        "for i in range(1,(n//2)+1):\n",
        "  if n%i==0:\n",
        "    c+=1\n",
        "if c==1:\n",
        "  print(\"Prime Number\")\n",
        "else:\n",
        "  print(\"Not a Prime Number\")"
      ],
      "metadata": {
        "id": "6dqtrd49_a9c"
      },
      "id": "6dqtrd49_a9c",
      "execution_count": null,
      "outputs": []
    },
    {
      "cell_type": "markdown",
      "id": "b44b54ff",
      "metadata": {
        "id": "b44b54ff"
      },
      "source": [
        "### 5. Write a Python Program to Print all Prime Numbers in an Interval of 1-10000?"
      ]
    },
    {
      "cell_type": "code",
      "source": [
        "for i in range(10001):\n",
        "  c=0\n",
        "  for j in range(1,(i//2+1)):\n",
        "      if i%j==0:\n",
        "        c+=1\n",
        "  if c==1:\n",
        "    print(i,end=' ')"
      ],
      "metadata": {
        "id": "E69Fsmz7_c0H"
      },
      "id": "E69Fsmz7_c0H",
      "execution_count": null,
      "outputs": []
    }
  ],
  "metadata": {
    "kernelspec": {
      "display_name": "Python 3 (ipykernel)",
      "language": "python",
      "name": "python3"
    },
    "language_info": {
      "codemirror_mode": {
        "name": "ipython",
        "version": 3
      },
      "file_extension": ".py",
      "mimetype": "text/x-python",
      "name": "python",
      "nbconvert_exporter": "python",
      "pygments_lexer": "ipython3",
      "version": "3.9.12"
    },
    "colab": {
      "provenance": []
    }
  },
  "nbformat": 4,
  "nbformat_minor": 5
}