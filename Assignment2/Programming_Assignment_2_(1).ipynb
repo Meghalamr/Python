{
  "cells": [
    {
      "cell_type": "markdown",
      "id": "08c66ea5",
      "metadata": {
        "id": "08c66ea5"
      },
      "source": [
        "## Programming Assignment_2\n",
        "-------------"
      ]
    },
    {
      "cell_type": "markdown",
      "id": "4e50cf42",
      "metadata": {
        "id": "4e50cf42"
      },
      "source": [
        "1. Write a Python program to convert kilometers to miles?\n"
      ]
    },
    {
      "cell_type": "code",
      "source": [
        "k=int(input()) #input kilometers\n",
        "m=k*0.6214      # converting into miles\n",
        "print(m)"
      ],
      "metadata": {
        "id": "NtOwM2sE_SwI"
      },
      "id": "NtOwM2sE_SwI",
      "execution_count": null,
      "outputs": []
    },
    {
      "cell_type": "markdown",
      "id": "0df4e6bf",
      "metadata": {
        "id": "0df4e6bf"
      },
      "source": [
        "### 2.Write a Python program to convert Celsius to Fahrenheit?"
      ]
    },
    {
      "cell_type": "code",
      "source": [
        "c=int(input())  # input celsius\n",
        "f=c*1.8+32      # convert to fahrenheit\n",
        "print('{} f'.format(f))"
      ],
      "metadata": {
        "id": "kqm6tI9VAgRd"
      },
      "id": "kqm6tI9VAgRd",
      "execution_count": null,
      "outputs": []
    },
    {
      "cell_type": "markdown",
      "id": "46129b8e",
      "metadata": {
        "id": "46129b8e"
      },
      "source": [
        "3. Write a Python program to display calendar?\n"
      ]
    },
    {
      "cell_type": "code",
      "source": [
        "import calendar\n",
        "y = int(input(\"Enter year: \"))\n",
        "\n",
        "# display the calendar\n",
        "print(calendar.calendar(y))"
      ],
      "metadata": {
        "id": "bGg_nCoDBjtz"
      },
      "id": "bGg_nCoDBjtz",
      "execution_count": null,
      "outputs": []
    },
    {
      "cell_type": "markdown",
      "id": "db2bf0f7",
      "metadata": {
        "id": "db2bf0f7"
      },
      "source": [
        "### 4. Write a Python program to solve quadratic equation?"
      ]
    },
    {
      "cell_type": "code",
      "source": [
        "# quadratic formula = ax2+bx+c and a!=0\n",
        "import cmath\n",
        "a= int(input())\n",
        "b=int(input())\n",
        "c=int(input())\n",
        "if a!=0:\n",
        "  d=b**2 - 4*a*c\n",
        "  root1= (-b+cmath.sqrt(d))/2*a\n",
        "  root2= (-b-cmath.sqrt(d))/2*a\n",
        "print(\"root1: {} \\nroot2: {}\".format(root1,root2))"
      ],
      "metadata": {
        "id": "MRR2_w-egBt5"
      },
      "id": "MRR2_w-egBt5",
      "execution_count": null,
      "outputs": []
    },
    {
      "cell_type": "markdown",
      "id": "f70f74c9",
      "metadata": {
        "id": "f70f74c9"
      },
      "source": [
        "5. Write a Python program to swap two variables without temp variable?"
      ]
    },
    {
      "cell_type": "code",
      "source": [
        "#without temp variable\n",
        "a=int(input())\n",
        "b=int(input())\n",
        "a=a+b\n",
        "b=a-b\n",
        "a=a-b\n",
        "print('{} {}'.format(a,b))"
      ],
      "metadata": {
        "id": "sODJYEfAgvVK"
      },
      "id": "sODJYEfAgvVK",
      "execution_count": null,
      "outputs": []
    }
  ],
  "metadata": {
    "kernelspec": {
      "display_name": "Python 3 (ipykernel)",
      "language": "python",
      "name": "python3"
    },
    "language_info": {
      "codemirror_mode": {
        "name": "ipython",
        "version": 3
      },
      "file_extension": ".py",
      "mimetype": "text/x-python",
      "name": "python",
      "nbconvert_exporter": "python",
      "pygments_lexer": "ipython3",
      "version": "3.9.12"
    },
    "colab": {
      "provenance": []
    }
  },
  "nbformat": 4,
  "nbformat_minor": 5
}