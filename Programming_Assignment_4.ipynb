{
  "cells": [
    {
      "cell_type": "markdown",
      "id": "20cb4340",
      "metadata": {
        "id": "20cb4340"
      },
      "source": [
        "## Programming Assignment_4\n",
        "----------------"
      ]
    },
    {
      "cell_type": "markdown",
      "id": "4fdb6695",
      "metadata": {
        "id": "4fdb6695"
      },
      "source": [
        "### 1. Write a Python Program to Find the Factorial of a Number?"
      ]
    },
    {
      "cell_type": "code",
      "source": [
        "#factorial of a number using for loop\n",
        "n=int(input())\n",
        "f=1\n",
        "for i in range(1,n+1):\n",
        "  f=f*i\n",
        "print(f)\n"
      ],
      "metadata": {
        "id": "hOeAnUwS8YPP"
      },
      "id": "hOeAnUwS8YPP",
      "execution_count": null,
      "outputs": []
    },
    {
      "cell_type": "markdown",
      "id": "e6beef62",
      "metadata": {
        "id": "e6beef62"
      },
      "source": [
        "### 2. Write a Python Program to Display the multiplication Table?"
      ]
    },
    {
      "cell_type": "code",
      "source": [
        "# display the multiplication table of a number\n",
        "n=int(input(\"Enter the number to display the table: \"))\n",
        "p=1\n",
        "for i in range(1,11):\n",
        "  p=i*n\n",
        "  print(\"{} * {} = {}\".format(n,i,p),end='\\n')"
      ],
      "metadata": {
        "id": "KRlnRPqETMOx"
      },
      "id": "KRlnRPqETMOx",
      "execution_count": null,
      "outputs": []
    },
    {
      "cell_type": "markdown",
      "id": "7de7eba5",
      "metadata": {
        "id": "7de7eba5"
      },
      "source": [
        "### 3. Write a Python Program to Print the Fibonacci sequence?\n"
      ]
    },
    {
      "cell_type": "code",
      "source": [
        "#print the fibnocci sequence upto user input\n",
        "n=int(input())\n",
        "i,a,b=0,0,1\n",
        "print('{} {}'.format(a,b),end=' ')\n",
        "while i<(n-2):\n",
        "  c=a+b\n",
        "  print(c,end=' ')\n",
        "  a=b\n",
        "  b=c\n",
        "  i+=1\n",
        "\n",
        "\n"
      ],
      "metadata": {
        "id": "u8Cyk32Y7z5N"
      },
      "id": "u8Cyk32Y7z5N",
      "execution_count": null,
      "outputs": []
    },
    {
      "cell_type": "markdown",
      "id": "0446442e",
      "metadata": {
        "id": "0446442e"
      },
      "source": [
        "### 4. Write a Python Program to Check Armstrong Number?"
      ]
    },
    {
      "cell_type": "code",
      "source": [
        "# Check whether a number is a armstrong number or not\n",
        "n= int(input())\n",
        "k=n\n",
        "l=len(str(n))\n",
        "c=0\n",
        "for i in range(l):\n",
        "  s=n%10\n",
        "  c+=s**l\n",
        "  n=n//10\n",
        "if c==k:\n",
        "  print(\"It is a Armstrong Number\")\n",
        "else:\n",
        "  print(\"It is not a Armstrong Number\")"
      ],
      "metadata": {
        "id": "r7DqppbMywws"
      },
      "id": "r7DqppbMywws",
      "execution_count": null,
      "outputs": []
    },
    {
      "cell_type": "markdown",
      "id": "a6f9adfe",
      "metadata": {
        "id": "a6f9adfe"
      },
      "source": [
        "### 5. Write a Python Program to Find Armstrong Number in an Interval?"
      ]
    },
    {
      "cell_type": "code",
      "source": [
        "n,k=input().split( )\n",
        "for i in range(int(n),int(k)+1):\n",
        "  m=i\n",
        "  l=len(str(i))\n",
        "  c=0\n",
        "  for j in range(l):\n",
        "    s=m%10\n",
        "    c+=s**l\n",
        "    m=m//10\n",
        "  if c==i:\n",
        "    print(i)"
      ],
      "metadata": {
        "id": "CjqD4Osr0v7W"
      },
      "id": "CjqD4Osr0v7W",
      "execution_count": null,
      "outputs": []
    },
    {
      "cell_type": "markdown",
      "id": "157cad60",
      "metadata": {
        "id": "157cad60"
      },
      "source": [
        "### 6. Write a Python Program to Find the Sum of Natural Numbers?"
      ]
    },
    {
      "cell_type": "code",
      "source": [
        "#sum of natural numbers\n",
        "n= int(input())\n",
        "s=0\n",
        "for i in range(1,n+1):\n",
        "  s+=i\n",
        "print(s)"
      ],
      "metadata": {
        "id": "gUu3fbCs6fW1"
      },
      "id": "gUu3fbCs6fW1",
      "execution_count": null,
      "outputs": []
    }
  ],
  "metadata": {
    "kernelspec": {
      "display_name": "Python 3 (ipykernel)",
      "language": "python",
      "name": "python3"
    },
    "language_info": {
      "codemirror_mode": {
        "name": "ipython",
        "version": 3
      },
      "file_extension": ".py",
      "mimetype": "text/x-python",
      "name": "python",
      "nbconvert_exporter": "python",
      "pygments_lexer": "ipython3",
      "version": "3.9.12"
    },
    "colab": {
      "provenance": []
    }
  },
  "nbformat": 4,
  "nbformat_minor": 5
}